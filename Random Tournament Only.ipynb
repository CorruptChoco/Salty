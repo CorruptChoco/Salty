{
 "cells": [
  {
   "cell_type": "code",
   "execution_count": 1,
   "metadata": {},
   "outputs": [],
   "source": [
    "# Imports\n",
    "from splinter import Browser\n",
    "from webdriver_manager.chrome import ChromeDriverManager\n",
    "import random\n",
    "import time as t\n",
    "from config import email\n",
    "from config import password"
   ]
  },
  {
   "cell_type": "code",
   "execution_count": 2,
   "metadata": {},
   "outputs": [
    {
     "name": "stderr",
     "output_type": "stream",
     "text": [
      "\n",
      "\n",
      "====== WebDriver manager ======\n",
      "Current google-chrome version is 103.0.5060\n",
      "Get LATEST chromedriver version for 103.0.5060 google-chrome\n",
      "Trying to download new driver from https://chromedriver.storage.googleapis.com/103.0.5060.53/chromedriver_win32.zip\n",
      "Driver has been saved in cache [C:\\Users\\rab_b\\.wdm\\drivers\\chromedriver\\win32\\103.0.5060.53]\n"
     ]
    }
   ],
   "source": [
    "# Set the executable path and initialize Splinter\n",
    "executable_path = {'executable_path': ChromeDriverManager().install()}\n",
    "browser = Browser('chrome', **executable_path, headless=False)"
   ]
  },
  {
   "cell_type": "code",
   "execution_count": 3,
   "metadata": {},
   "outputs": [],
   "source": [
    "#login to saltybet hit enter and wait 5 seconds for page to load\n",
    "url = 'https://www.saltybet.com/authenticate?signin=1'\n",
    "browser.visit(url)\n",
    "#browser.find_by_id('email').click()\n",
    "browser.find_by_id(\"email\").fill(f'{email}')\n",
    "browser.find_by_id(\"pword\").fill(f'{password}\\n')\n",
    "# ActionChains(browser).move_to_element(text_input).send_keys_to_element(text_input, \"mdicky93@gmail.com\").perform()\n",
    "t.sleep(5)"
   ]
  },
  {
   "cell_type": "code",
   "execution_count": 4,
   "metadata": {},
   "outputs": [],
   "source": [
    "def bet_loop():\n",
    "    print('loop start')\n",
    "    #check to make sure the bet was accepted before moving on\n",
    "    betconfirm = browser.is_element_present_by_id('betconfirm')\n",
    "    if betconfirm == True:\n",
    "        #don't want to constantly keep clicking random until match starts. bet confirm appears once you bet and disappears upon match start.\n",
    "        i = 0\n",
    "        while betconfirm == True:\n",
    "            if i == 0:\n",
    "                print('bet confirmed')\n",
    "            betconfirm = browser.is_element_present_by_id('betconfirm')\n",
    "            t.sleep(5)\n",
    "            i += 1\n",
    "        #looking for the arrow in the odds section after match starts as an idicator that match is ongoing.\n",
    "        i = 0\n",
    "        while browser.find_by_id('betstatus').value == 'Bets are OPEN!' or browser.find_by_id('betstatus').value == 'Bets are locked until the next match.':\n",
    "            t.sleep(0.2)\n",
    "            if i == 0:\n",
    "                print('in a match')\n",
    "            i += 1\n",
    "        while browser.find_by_id('betstatus').value != 'Bets are OPEN!':\n",
    "            t.sleep(1)\n",
    "    else:\n",
    "        print('bet not confirmed')\n",
    "        t.sleep(2)\n",
    "    print('loop complete')"
   ]
  },
  {
   "cell_type": "code",
   "execution_count": 5,
   "metadata": {},
   "outputs": [],
   "source": [
    "def bet_who(bet_amount):\n",
    "    player1 = browser.find_by_id('player1')\n",
    "    player2 = browser.find_by_id('player2')\n",
    "    try:\n",
    "        #had to use a try except here as clicking when nothing is there causes errors. I'm sure this can be written better. this finds and clicks all in button\n",
    "        allin=browser.find_by_id(bet_amount)\n",
    "        allin.click()\n",
    "        t.sleep(0.2)\n",
    "        #random click of red or blue.\n",
    "        coinflip=random.choice([0,1])\n",
    "        if coinflip == 1:\n",
    "            player2.click()\n",
    "            print('bet on blue')\n",
    "            t.sleep(0.2)\n",
    "        else:\n",
    "            player1.click()\n",
    "            print('bet on red')\n",
    "            t.sleep(0.2)\n",
    "        print('go to loop')\n",
    "        bet_loop()\n",
    "    except:\n",
    "        t.sleep(1)"
   ]
  },
  {
   "cell_type": "code",
   "execution_count": 6,
   "metadata": {},
   "outputs": [
    {
     "name": "stdout",
     "output_type": "stream",
     "text": [
      "0 tournament all in\n",
      "2,948\n",
      "bet on blue\n",
      "go to loop\n",
      "loop start\n",
      "bet confirmed\n",
      "in a match\n",
      "loop complete\n"
     ]
    },
    {
     "ename": "KeyboardInterrupt",
     "evalue": "",
     "output_type": "error",
     "traceback": [
      "\u001b[1;31m---------------------------------------------------------------------------\u001b[0m",
      "\u001b[1;31mKeyboardInterrupt\u001b[0m                         Traceback (most recent call last)",
      "\u001b[1;32mc:\\Users\\rab_b\\Desktop\\SaltyBet\\Random Tournament Only.ipynb Cell 6\u001b[0m in \u001b[0;36m<cell line: 3>\u001b[1;34m()\u001b[0m\n\u001b[0;32m      <a href='vscode-notebook-cell:/c%3A/Users/rab_b/Desktop/SaltyBet/Random%20Tournament%20Only.ipynb#ch0000005?line=6'>7</a>\u001b[0m \u001b[39m#if the purple text of balance is present we begin betting\u001b[39;00m\n\u001b[0;32m      <a href='vscode-notebook-cell:/c%3A/Users/rab_b/Desktop/SaltyBet/Random%20Tournament%20Only.ipynb#ch0000005?line=7'>8</a>\u001b[0m \u001b[39mwhile\u001b[39;00m t_time \u001b[39m!=\u001b[39m \u001b[39mFalse\u001b[39;00m:\n\u001b[1;32m----> <a href='vscode-notebook-cell:/c%3A/Users/rab_b/Desktop/SaltyBet/Random%20Tournament%20Only.ipynb#ch0000005?line=8'>9</a>\u001b[0m     t\u001b[39m.\u001b[39;49msleep(\u001b[39m30\u001b[39;49m)\n\u001b[0;32m     <a href='vscode-notebook-cell:/c%3A/Users/rab_b/Desktop/SaltyBet/Random%20Tournament%20Only.ipynb#ch0000005?line=9'>10</a>\u001b[0m \u001b[39mwhile\u001b[39;00m browser\u001b[39m.\u001b[39mfind_by_id(\u001b[39m'\u001b[39m\u001b[39mbetstatus\u001b[39m\u001b[39m'\u001b[39m)\u001b[39m.\u001b[39mvalue \u001b[39m!=\u001b[39m \u001b[39m'\u001b[39m\u001b[39mBets are OPEN!\u001b[39m\u001b[39m'\u001b[39m:\n\u001b[0;32m     <a href='vscode-notebook-cell:/c%3A/Users/rab_b/Desktop/SaltyBet/Random%20Tournament%20Only.ipynb#ch0000005?line=10'>11</a>\u001b[0m     t\u001b[39m.\u001b[39msleep(\u001b[39m5\u001b[39m)\n",
      "\u001b[1;31mKeyboardInterrupt\u001b[0m: "
     ]
    }
   ],
   "source": [
    "u_input = int(input('How many matches would you like to run?'))\n",
    "random.seed()\n",
    "for i in range(u_input):\n",
    "    #t_time = browser.is_element_present_by_id('tournament-note')\n",
    "    #used is_element_not instead of is_element_present as it runs almost 2 seconds faster, don't know why.\n",
    "    t_time = browser.is_element_not_present_by_css('span[class=\"dollar purpletext\"][id=\"balance\"]')\n",
    "    #if the purple text of balance is present we begin betting\n",
    "    while t_time != False:\n",
    "        t.sleep(30)\n",
    "    while browser.find_by_id('betstatus').value != 'Bets are OPEN!':\n",
    "        t.sleep(5)\n",
    "    if t_time == False and int(browser.find_by_id('balance').value.replace(',',\"\")) <=4000:\n",
    "        print(f'{i} tournament all in')\n",
    "        print(browser.find_by_id('balance').value)\n",
    "        bet_who('interval10')\n",
    "    elif t_time == False and int(browser.find_by_id('balance').value.replace(',',\"\")) <=7000:\n",
    "        print(f'{i} tournament 50 percent')\n",
    "        print(browser.find_by_id('balance').value)\n",
    "        bet_who('interval5')\n",
    "    elif t_time == False and int(browser.find_by_id('balance').value.replace(',',\"\")) > 7000:\n",
    "        print(f'{i} tournament 10 percent')\n",
    "        print(browser.find_by_id('balance').value)\n",
    "        bet_who('interval1')\n",
    "browser.quit()"
   ]
  },
  {
   "cell_type": "code",
   "execution_count": null,
   "metadata": {},
   "outputs": [],
   "source": []
  }
 ],
 "metadata": {
  "interpreter": {
   "hash": "a141b5ff9140161ae2f0ff1e53d25b25d1bd5ccc57147b9f573da7c59c1b3e49"
  },
  "kernelspec": {
   "display_name": "Python 3.9.7 ('base')",
   "language": "python",
   "name": "python3"
  },
  "language_info": {
   "codemirror_mode": {
    "name": "ipython",
    "version": 3
   },
   "file_extension": ".py",
   "mimetype": "text/x-python",
   "name": "python",
   "nbconvert_exporter": "python",
   "pygments_lexer": "ipython3",
   "version": "3.9.7"
  },
  "orig_nbformat": 4
 },
 "nbformat": 4,
 "nbformat_minor": 2
}
