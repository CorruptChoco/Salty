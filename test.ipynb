{
 "cells": [
  {
   "cell_type": "code",
   "execution_count": 6,
   "metadata": {},
   "outputs": [],
   "source": [
    "import re\n",
    "import sqlite3\n",
    "from splinter import Browser\n",
    "from webdriver_manager.chrome import ChromeDriverManager\n",
    "from config import email\n",
    "from config import password\n",
    "import time as t"
   ]
  },
  {
   "cell_type": "code",
   "execution_count": null,
   "metadata": {},
   "outputs": [],
   "source": [
    "text = '18 Exhibition matches remaining'\n",
    "re.search('exhibition', text, re.I)"
   ]
  },
  {
   "cell_type": "code",
   "execution_count": null,
   "metadata": {},
   "outputs": [],
   "source": [
    "con = sqlite3.connect('fighter_database.db')\n",
    "cur = con.cursor()\n",
    "cur.execute(''' SELECT count(name) FROM sqlite_master WHERE type='table' AND name='fighters' ''')"
   ]
  },
  {
   "cell_type": "code",
   "execution_count": null,
   "metadata": {},
   "outputs": [],
   "source": [
    "con.close()"
   ]
  },
  {
   "cell_type": "code",
   "execution_count": null,
   "metadata": {},
   "outputs": [],
   "source": [
    "player1_text = 'Shirakawa kotori'\n",
    "#player1_text = 'Lunasa'"
   ]
  },
  {
   "cell_type": "code",
   "execution_count": null,
   "metadata": {},
   "outputs": [],
   "source": [
    "cur.execute(' SELECT kills, deaths from fighters WHERE name=?',(player1_text,))\n",
    "c_wins, c_loss = cur.fetchone()\n",
    "print (c_wins)\n",
    "print(c_loss)"
   ]
  },
  {
   "cell_type": "code",
   "execution_count": null,
   "metadata": {},
   "outputs": [],
   "source": [
    "c_wins = 0\n",
    "cur.execute('UPDATE fighters SET kills = ?, ratio = ? WHERE name = ?',(c_wins+1, 1, player1_text))\n",
    "con.commit()"
   ]
  },
  {
   "cell_type": "code",
   "execution_count": 7,
   "metadata": {},
   "outputs": [
    {
     "name": "stderr",
     "output_type": "stream",
     "text": [
      "\n",
      "\n",
      "====== WebDriver manager ======\n",
      "Current google-chrome version is 103.0.5060\n",
      "Get LATEST chromedriver version for 103.0.5060 google-chrome\n",
      "Trying to download new driver from https://chromedriver.storage.googleapis.com/103.0.5060.53/chromedriver_win32.zip\n",
      "Driver has been saved in cache [C:\\Users\\rab_b\\.wdm\\drivers\\chromedriver\\win32\\103.0.5060.53]\n"
     ]
    }
   ],
   "source": [
    "executable_path = {'executable_path': ChromeDriverManager().install()}\n",
    "browser = Browser('chrome', **executable_path, headless=False)"
   ]
  },
  {
   "cell_type": "code",
   "execution_count": null,
   "metadata": {},
   "outputs": [],
   "source": [
    "#login to saltybet hit enter and wait 3 seconds for page to load\n",
    "url = 'https://www.saltybet.com/authenticate?signin=1'\n",
    "browser.visit(url)\n",
    "#browser.find_by_id('email').click()\n",
    "browser.find_by_id(\"email\").fill(f'{email}')\n",
    "browser.find_by_id(\"pword\").fill(f'{password}\\n')\n",
    "# ActionChains(browser).move_to_element(text_input).send_keys_to_element(text_input, \"mdicky93@gmail.com\").perform()\n",
    "t.sleep(3)"
   ]
  },
  {
   "cell_type": "code",
   "execution_count": null,
   "metadata": {},
   "outputs": [],
   "source": [
    "#footer_text = browser.find_by_id('footer-alert')[0].text\n",
    "#print(footer_text)\n",
    "js = browser.evaluate_script(\"document.getElementById('footer-alert').textContent\")\n",
    "print(js)\n",
    "\n",
    "# thing = browser.find_by_css('div[id=\"footer-alert\"]').get_attribute('value')\n",
    "# print(thing)\n",
    "# other=browser.find_by_xpath('//div[@id=\"footer-alert\"][@style=\"display: none;\"]').value\n",
    "# print(other)\n",
    "#exhib_on = re.search('exhibition', footer_text, re.I)\n",
    "#print(exhib_on)"
   ]
  },
  {
   "cell_type": "code",
   "execution_count": null,
   "metadata": {},
   "outputs": [],
   "source": [
    "def exi_check():\n",
    "    # 1. wait till in a match\n",
    "    # 2. look for 'exhibition' in footer note during match\n",
    "    # 3. if there go through bet loop maybe?\n",
    "    # 4. if not continue on to next betting oppurtunity and begin betting.\n",
    "    # ... won't work because i don't know if the next match will be exhibition or not.\n",
    "    # perhaps just avoid betting Team A // Team B fights?"
   ]
  },
  {
   "cell_type": "code",
   "execution_count": null,
   "metadata": {},
   "outputs": [],
   "source": [
    "# selenium 4\n",
    "from selenium.webdriver.common.by import By\n",
    "from selenium import webdriver\n",
    "from selenium.webdriver.chrome.service import Service as ChromeService\n",
    "from webdriver_manager.chrome import ChromeDriverManager\n",
    "\n",
    "driver = webdriver.Chrome(service=ChromeService(ChromeDriverManager().install()))\n",
    "driver.get('http://saltybet.com')\n",
    "\n"
   ]
  },
  {
   "cell_type": "code",
   "execution_count": null,
   "metadata": {},
   "outputs": [],
   "source": [
    "things = driver.find_element(By.ID,\"footer-alert\").get_attribute(\"textContent\")\n",
    "#for thing in things:\n",
    "print(things)"
   ]
  },
  {
   "cell_type": "code",
   "execution_count": 111,
   "metadata": {},
   "outputs": [],
   "source": [
    "browser.find_by_id('wager').fill('1000')"
   ]
  },
  {
   "cell_type": "code",
   "execution_count": null,
   "metadata": {},
   "outputs": [],
   "source": [
    "def exhib_bet():\n",
    "    if int(browser.find_by_css('span[class=\"dollar\"][id=\"balance\"]').value.replace(',',\"\")) >= 70000:\n",
    "        coinflip=random.choice([0,1])\n",
    "        if coinflip == 1:\n",
    "            player2.click()\n",
    "            print('bet on blue')\n",
    "            t.sleep(0.2)\n",
    "        else:\n",
    "            player1.click()\n",
    "            print('bet on red')\n",
    "            t.sleep(0.2)\n",
    "        print('go to loop')\n",
    "        browser.find_by_id('wager').fill('1000\\n')\n",
    "        t.sleep(0.2)\n",
    "        exhib_marker = 1\n",
    "        bet_loop(player1_text,player2_text, exhib_marker)"
   ]
  },
  {
   "cell_type": "code",
   "execution_count": 5,
   "metadata": {},
   "outputs": [],
   "source": [
    "mo_money = 0.05\n",
    "balance = int(browser.find_by_id('balance').value.replace(',',\"\"))\n",
    "type(balance)\n",
    "browser.find_by_id('wager').fill(str(round(balance * mo_money)))"
   ]
  },
  {
   "cell_type": "code",
   "execution_count": 15,
   "metadata": {},
   "outputs": [
    {
     "data": {
      "text/plain": [
       "True"
      ]
     },
     "execution_count": 15,
     "metadata": {},
     "output_type": "execute_result"
    }
   ],
   "source": [
    "bet_red = browser.find_by_id(\"lastbet\").find_by_tag(\"span\")[0].has_class('redtext')\n",
    "bet_blue = browser.find_by_id(\"lastbet\").find_by_tag(\"span\")[0].has_class('bluetext')\n",
    "green_confirm = browser.find_by_id(\"lastbet\").find_by_tag(\"span\")[1].has_class('greentext')\n",
    "bet_red"
   ]
  },
  {
   "cell_type": "code",
   "execution_count": 16,
   "metadata": {},
   "outputs": [
    {
     "name": "stdout",
     "output_type": "stream",
     "text": [
      "[]\n",
      "number of correct guesses: 0\n",
      "number of incorrect guesses: 0\n",
      "number of errors: 0\n"
     ]
    },
    {
     "ename": "ZeroDivisionError",
     "evalue": "division by zero",
     "output_type": "error",
     "traceback": [
      "\u001b[1;31m---------------------------------------------------------------------------\u001b[0m",
      "\u001b[1;31mZeroDivisionError\u001b[0m                         Traceback (most recent call last)",
      "\u001b[1;32mc:\\Users\\rab_b\\Desktop\\SaltyBet\\test.ipynb Cell 18\u001b[0m in \u001b[0;36m<cell line: 7>\u001b[1;34m()\u001b[0m\n\u001b[0;32m      <a href='vscode-notebook-cell:/c%3A/Users/rab_b/Desktop/SaltyBet/test.ipynb#ch0000017?line=4'>5</a>\u001b[0m \u001b[39mprint\u001b[39m(\u001b[39mf\u001b[39m\u001b[39m'\u001b[39m\u001b[39mnumber of incorrect guesses: \u001b[39m\u001b[39m{\u001b[39;00mtimes_correct\u001b[39m.\u001b[39mcount(\u001b[39m0\u001b[39m)\u001b[39m}\u001b[39;00m\u001b[39m'\u001b[39m)\n\u001b[0;32m      <a href='vscode-notebook-cell:/c%3A/Users/rab_b/Desktop/SaltyBet/test.ipynb#ch0000017?line=5'>6</a>\u001b[0m \u001b[39mprint\u001b[39m(\u001b[39mf\u001b[39m\u001b[39m'\u001b[39m\u001b[39mnumber of errors: \u001b[39m\u001b[39m{\u001b[39;00mtimes_correct\u001b[39m.\u001b[39mcount(\u001b[39m2\u001b[39m)\u001b[39m}\u001b[39;00m\u001b[39m'\u001b[39m)\n\u001b[1;32m----> <a href='vscode-notebook-cell:/c%3A/Users/rab_b/Desktop/SaltyBet/test.ipynb#ch0000017?line=6'>7</a>\u001b[0m \u001b[39mprint\u001b[39m(\u001b[39mf\u001b[39m\u001b[39m'\u001b[39m\u001b[39mpercentage of right guesses: \u001b[39m\u001b[39m{\u001b[39;00m(times_correct\u001b[39m.\u001b[39mcount(\u001b[39m1\u001b[39m)\u001b[39m/\u001b[39m(times_correct\u001b[39m.\u001b[39mcount(\u001b[39m1\u001b[39m)\u001b[39m+\u001b[39mtimes_correct\u001b[39m.\u001b[39mcount(\u001b[39m0\u001b[39m)))\u001b[39m*\u001b[39m\u001b[39m100\u001b[39m\u001b[39m}\u001b[39;00m\u001b[39m%\u001b[39m\u001b[39m'\u001b[39m)\n",
      "\u001b[1;31mZeroDivisionError\u001b[0m: division by zero"
     ]
    },
    {
     "ename": "",
     "evalue": "",
     "output_type": "error",
     "traceback": [
      "\u001b[1;31mThe Kernel crashed while executing code in the the current cell or a previous cell. Please review the code in the cell(s) to identify a possible cause of the failure. Click <a href='https://aka.ms/vscodeJupyterKernelCrash'>here</a> for more info. View Jupyter <a href='command:jupyter.viewOutput'>log</a> for further details."
     ]
    }
   ],
   "source": [
    "times_correct = []\n",
    "print(times_correct)\n",
    "#print(f'total number of matches: {u_input}')\n",
    "print(f'number of correct guesses: {times_correct.count(1)}')\n",
    "print(f'number of incorrect guesses: {times_correct.count(0)}')\n",
    "print(f'number of errors: {times_correct.count(2)}')\n",
    "print(f'percentage of right guesses: {(times_correct.count(1)/(times_correct.count(1)+times_correct.count(0)))*100}%')  "
   ]
  }
 ],
 "metadata": {
  "kernelspec": {
   "display_name": "Python 3.9.7 ('base')",
   "language": "python",
   "name": "python3"
  },
  "language_info": {
   "codemirror_mode": {
    "name": "ipython",
    "version": 3
   },
   "file_extension": ".py",
   "mimetype": "text/x-python",
   "name": "python",
   "nbconvert_exporter": "python",
   "pygments_lexer": "ipython3",
   "version": "3.9.7"
  },
  "orig_nbformat": 4,
  "vscode": {
   "interpreter": {
    "hash": "a141b5ff9140161ae2f0ff1e53d25b25d1bd5ccc57147b9f573da7c59c1b3e49"
   }
  }
 },
 "nbformat": 4,
 "nbformat_minor": 2
}
