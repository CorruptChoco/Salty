{
 "cells": [
  {
   "cell_type": "code",
   "execution_count": null,
   "metadata": {},
   "outputs": [],
   "source": [
    "#tell me who to bet for.\n",
    "import sqlite3\n",
    "import random\n",
    "from splinter import Browser\n",
    "from webdriver_manager.chrome import ChromeDriverManager"
   ]
  },
  {
   "cell_type": "code",
   "execution_count": null,
   "metadata": {},
   "outputs": [],
   "source": [
    "con = sqlite3.connect('fighter_database.db')\n",
    "cur = con.cursor()\n",
    "cur.execute(''' SELECT count(name) FROM sqlite_master WHERE type='table' AND name='fighters' ''')"
   ]
  },
  {
   "cell_type": "code",
   "execution_count": null,
   "metadata": {},
   "outputs": [],
   "source": [
    "executable_path = {'executable_path': ChromeDriverManager().install()}\n",
    "browser = Browser('chrome', **executable_path, headless=True)\n",
    "url = 'https://www.saltybet.com'\n",
    "browser.visit(url)"
   ]
  },
  {
   "cell_type": "code",
   "execution_count": null,
   "metadata": {},
   "outputs": [],
   "source": [
    "random.seed()\n",
    "player1 = browser.find_by_id('player1')\n",
    "player1_text = browser.find_by_id('player1').value\n",
    "player2 = browser.find_by_id('player2')\n",
    "player2_text = browser.find_by_id('player2').value\n",
    "cur.execute(' SELECT * from fighters WHERE name=?',(player1_text,))\n",
    "if cur.fetchone()==None:\n",
    "    print('fighter 1 not found')\n",
    "    fighter1_present=0\n",
    "else:\n",
    "    print('fighter 1 found')\n",
    "    fighter1_present=1\n",
    "cur.execute(' SELECT * from fighters WHERE name=?',(player2_text,))\n",
    "if cur.fetchone()==None:\n",
    "    print('fighter 2 not found')\n",
    "    fighter2_present=0\n",
    "else:\n",
    "    print('fighter 2 found')\n",
    "    fighter2_present=1\n",
    "if fighter1_present == 0 and fighter2_present == 0:\n",
    "    # random fight.\n",
    "    coinflip=random.choice([0,1])\n",
    "    if coinflip == 1:\n",
    "        print('bet on blue')\n",
    "    else:\n",
    "        print('bet on red')\n",
    "elif (fighter1_present == 1 and fighter2_present == 0) or (fighter1_present == 0 and fighter2_present == 1):\n",
    "    cur.execute(' SELECT * from fighters WHERE name=?',(player1_text,))\n",
    "    if cur.fetchone()==None:\n",
    "        cur.execute(' SELECT ratio from fighters WHERE name=?',(player2_text,))\n",
    "        ratio = cur.fetchone()[0]\n",
    "        print(f'player 2 ratio is {ratio}')\n",
    "        if ratio < 1.0:\n",
    "            print('bet on red')\n",
    "        else:\n",
    "            player2.click()\n",
    "            print('bet on blue')\n",
    "    else:\n",
    "        cur.execute(' SELECT ratio from fighters WHERE name=?',(player1_text,))\n",
    "        ratio = cur.fetchone()[0]\n",
    "        print(f'player 1 ratio is {ratio}')\n",
    "        if ratio < 1.0:\n",
    "            print('bet on blue')\n",
    "        else:\n",
    "            print('bet on red')\n",
    "    # bet on fighter with stats if ratio >0.5 else bet on unknown\n",
    "elif fighter1_present == 1 and fighter2_present == 1:\n",
    "    # bet on fighter with higher win loss ratio\n",
    "    cur.execute(''' SELECT ratio from fighters WHERE name=?''',(player1_text,)) \n",
    "    red_ratio = cur.fetchone()[0]\n",
    "    print(f'red ratio is {red_ratio}')\n",
    "    cur.execute(''' SELECT ratio from fighters WHERE name=?''',(player1_text,))\n",
    "    blue_ratio = cur.fetchone()[0]\n",
    "    print(f'blue ratio is {blue_ratio}')\n",
    "    if red_ratio >= blue_ratio:\n",
    "        print('bet on red')\n",
    "    else:\n",
    "        print('bet on blue')\n",
    "browser.quit()\n",
    "con.close()"
   ]
  }
 ],
 "metadata": {
  "kernelspec": {
   "display_name": "Python 3.9.7 ('base')",
   "language": "python",
   "name": "python3"
  },
  "language_info": {
   "name": "python",
   "version": "3.9.7"
  },
  "orig_nbformat": 4,
  "vscode": {
   "interpreter": {
    "hash": "a141b5ff9140161ae2f0ff1e53d25b25d1bd5ccc57147b9f573da7c59c1b3e49"
   }
  }
 },
 "nbformat": 4,
 "nbformat_minor": 2
}
